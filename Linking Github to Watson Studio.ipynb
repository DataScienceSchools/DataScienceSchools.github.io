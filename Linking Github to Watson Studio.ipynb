{
    "cells": [
        {
            "metadata": {},
            "cell_type": "code",
            "source": "Linking Github to Watson Studio",
            "execution_count": null,
            "outputs": []
        },
        {
            "metadata": {
                "collapsed": true
            },
            "cell_type": "markdown",
            "source": "Go to -> 'Profile and Settings'\n\nGo to -> 'Integrations' Tab\n\nClick on ->  personal access tokens\n\n\nEnter -> Your Github Password\n\nFill -> Note\n\nChoose -> repo\n\nPress -> 'Generate token' Button\n\nCopy -> Personal access tokens\n\n\nReturn to GitHub Integration & Paste -> Personal access tokens\n\nPress Save Button\n\n\n\n"
        },
        {
            "metadata": {},
            "cell_type": "markdown",
            "source": "Now Go to Project -> Settings -> Integrations -> Type Repository URL -> Update"
        },
        {
            "metadata": {},
            "cell_type": "markdown",
            "source": "Now Go to Asset tab -> find the notebook you want to publish -> press \u22ee -> You can publish as gist or Publish on GitHub"
        }
    ],
    "metadata": {
        "kernelspec": {
            "name": "python3",
            "display_name": "Python 3.6",
            "language": "python"
        },
        "language_info": {
            "name": "python",
            "version": "3.6.9",
            "mimetype": "text/x-python",
            "codemirror_mode": {
                "name": "ipython",
                "version": 3
            },
            "pygments_lexer": "ipython3",
            "nbconvert_exporter": "python",
            "file_extension": ".py"
        }
    },
    "nbformat": 4,
    "nbformat_minor": 1
}